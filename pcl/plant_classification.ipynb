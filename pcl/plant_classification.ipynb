{
 "cells": [
  {
   "cell_type": "code",
   "execution_count": 5,
   "metadata": {},
   "outputs": [
    {
     "name": "stdout",
     "output_type": "stream",
     "text": [
      "Accuracy: 0.9785714285714285\n",
      "Classification Report:\n",
      "              precision    recall  f1-score   support\n",
      "\n",
      "   blackgram       0.92      1.00      0.96        22\n",
      "    chickpea       1.00      1.00      1.00        22\n",
      "      cotton       1.00      1.00      1.00        14\n",
      "        jute       0.90      1.00      0.95        18\n",
      " kidneybeans       1.00      1.00      1.00        20\n",
      "      lentil       0.96      1.00      0.98        23\n",
      "       maize       0.97      1.00      0.99        39\n",
      "   mothbeans       1.00      0.86      0.93        22\n",
      "    mungbean       1.00      1.00      1.00        21\n",
      "   muskmelon       1.00      1.00      1.00        20\n",
      "  pigeonpeas       1.00      0.95      0.97        20\n",
      "        rice       1.00      0.89      0.94        19\n",
      "  watermelon       1.00      1.00      1.00        20\n",
      "\n",
      "    accuracy                           0.98       280\n",
      "   macro avg       0.98      0.98      0.98       280\n",
      "weighted avg       0.98      0.98      0.98       280\n",
      "\n",
      "Confusion Matrix:\n",
      "[[22  0  0  0  0  0  0  0  0  0  0  0  0]\n",
      " [ 0 22  0  0  0  0  0  0  0  0  0  0  0]\n",
      " [ 0  0 14  0  0  0  0  0  0  0  0  0  0]\n",
      " [ 0  0  0 18  0  0  0  0  0  0  0  0  0]\n",
      " [ 0  0  0  0 20  0  0  0  0  0  0  0  0]\n",
      " [ 0  0  0  0  0 23  0  0  0  0  0  0  0]\n",
      " [ 0  0  0  0  0  0 39  0  0  0  0  0  0]\n",
      " [ 2  0  0  0  0  1  0 19  0  0  0  0  0]\n",
      " [ 0  0  0  0  0  0  0  0 21  0  0  0  0]\n",
      " [ 0  0  0  0  0  0  0  0  0 20  0  0  0]\n",
      " [ 0  0  0  0  0  0  1  0  0  0 19  0  0]\n",
      " [ 0  0  0  2  0  0  0  0  0  0  0 17  0]\n",
      " [ 0  0  0  0  0  0  0  0  0  0  0  0 20]]\n",
      "pigeonpeas\n"
     ]
    }
   ],
   "source": [
    "# Import necessary libraries\n",
    "import pandas as pd\n",
    "from sklearn.model_selection import train_test_split\n",
    "from sklearn.ensemble import RandomForestClassifier\n",
    "from sklearn.metrics import accuracy_score, classification_report, confusion_matrix\n",
    "\n",
    "# Load the data\n",
    "data = pd.read_csv('plant_data.csv')\n",
    "\n",
    "# Define the features (X) and the target (y)\n",
    "X = data[['temperature', 'humidity', 'ph', 'water availability']]\n",
    "y = data['label']\n",
    "\n",
    "# Split the data into training and testing sets\n",
    "X_train, X_test, y_train, y_test = train_test_split(X, y, test_size=0.2, random_state=42)\n",
    "\n",
    "# Create a Random Forest Classifier\n",
    "clf = RandomForestClassifier(n_estimators=100, random_state=42)\n",
    "\n",
    "# Train the model\n",
    "clf.fit(X_train, y_train)\n",
    "\n",
    "# Make predictions\n",
    "y_pred = clf.predict(X_test)\n",
    "\n",
    "# Evaluate the model\n",
    "print(\"Accuracy:\", accuracy_score(y_test, y_pred))\n",
    "print(\"Classification Report:\")\n",
    "print(classification_report(y_test, y_pred))\n",
    "print(\"Confusion Matrix:\")\n",
    "print(confusion_matrix(y_test, y_pred))\n",
    "\n",
    "# Use the model to make predictions for new inputs\n",
    "def predict_plant_type(temperature, humidity, ph, water_availability):\n",
    "    new_input = pd.DataFrame([[temperature, humidity, ph, water_availability]], columns=['temperature', 'humidity', 'ph', 'water availability'])\n",
    "    prediction = clf.predict(new_input)\n",
    "    return prediction[0]\n",
    "\n",
    "# Test the function\n",
    "print(predict_plant_type(20, 45, 6.6, 101))"
   ]
  }
 ],
 "metadata": {
  "kernelspec": {
   "display_name": "Python 3",
   "language": "python",
   "name": "python3"
  },
  "language_info": {
   "codemirror_mode": {
    "name": "ipython",
    "version": 3
   },
   "file_extension": ".py",
   "mimetype": "text/x-python",
   "name": "python",
   "nbconvert_exporter": "python",
   "pygments_lexer": "ipython3",
   "version": "3.12.2"
  }
 },
 "nbformat": 4,
 "nbformat_minor": 2
}
